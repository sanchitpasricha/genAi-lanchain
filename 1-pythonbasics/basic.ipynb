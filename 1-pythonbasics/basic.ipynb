{
 "cells": [
  {
   "cell_type": "code",
   "execution_count": 31,
   "metadata": {},
   "outputs": [
    {
     "name": "stdout",
     "output_type": "stream",
     "text": [
      "Hello world\n"
     ]
    }
   ],
   "source": [
    "print(\"Hello world\")"
   ]
  },
  {
   "cell_type": "markdown",
   "metadata": {},
   "source": [
    "### Lists\n"
   ]
  },
  {
   "cell_type": "code",
   "execution_count": 32,
   "metadata": {},
   "outputs": [
    {
     "name": "stdout",
     "output_type": "stream",
     "text": [
      "<class 'list'>\n"
     ]
    }
   ],
   "source": [
    "lst = []\n",
    "print(type(lst))"
   ]
  },
  {
   "cell_type": "code",
   "execution_count": 33,
   "metadata": {},
   "outputs": [
    {
     "name": "stdout",
     "output_type": "stream",
     "text": [
      "['Sanchit', 'Harvey', 'Mike']\n",
      "['Sanchit', 1, False]\n"
     ]
    }
   ],
   "source": [
    "names = [\"Sanchit\", \"Harvey\", \"Mike\"]\n",
    "print(names)\n",
    "mixed_list = [\"Sanchit\", 1, False]\n",
    "print(mixed_list)"
   ]
  },
  {
   "cell_type": "code",
   "execution_count": 34,
   "metadata": {},
   "outputs": [
    {
     "name": "stdout",
     "output_type": "stream",
     "text": [
      "Sanchit\n",
      "['Harvey', 'Mike']\n",
      "['Sanchit', 'Harvey', 'Will']\n"
     ]
    }
   ],
   "source": [
    "### Accesing list elements\n",
    "\n",
    "print(names[0])\n",
    "print(names[1:3]) ## Third index is not getting picked up\n",
    "names[2] = \"Will\"\n",
    "print(names)"
   ]
  },
  {
   "cell_type": "code",
   "execution_count": 35,
   "metadata": {},
   "outputs": [
    {
     "name": "stdout",
     "output_type": "stream",
     "text": [
      "['Sanchit', 'S', 'a', 'n', 'c', 'h', 'i', 't']\n"
     ]
    }
   ],
   "source": [
    "names[1:] = \"Sanchit\"\n",
    "print(names)"
   ]
  },
  {
   "cell_type": "code",
   "execution_count": 63,
   "metadata": {},
   "outputs": [],
   "source": [
    "names = [\"Sanchit\", \"Mike\", \"Harvey\", \"Aladin\", \"Anaconda\", \"Aloo\"]"
   ]
  },
  {
   "cell_type": "markdown",
   "metadata": {},
   "source": [
    "### List Methods"
   ]
  },
  {
   "cell_type": "code",
   "execution_count": 64,
   "metadata": {},
   "outputs": [
    {
     "name": "stdout",
     "output_type": "stream",
     "text": [
      "['Sanchit', 'Mike', 'Harvey', 'Aladin', 'Anaconda', 'Aloo']\n",
      "['Dustin', 'Mike', 'Harvey', 'Aladin', 'Anaconda', 'Aloo', 'El']\n"
     ]
    }
   ],
   "source": [
    "### Appending\n",
    "\n",
    "print(names)\n",
    "names.append(\"El\")\n",
    "names.insert(1, \"Dustin\")\n",
    "names.remove(\"Sanchit\")\n",
    "print(names)"
   ]
  },
  {
   "cell_type": "code",
   "execution_count": 65,
   "metadata": {},
   "outputs": [
    {
     "name": "stdout",
     "output_type": "stream",
     "text": [
      "['Dustin', 'Mike', 'Harvey', 'Aladin', 'Anaconda', 'Aloo', 'El']\n",
      "El\n",
      "2\n",
      "0\n"
     ]
    }
   ],
   "source": [
    "print(names)\n",
    "popped_name = names.pop()\n",
    "print(popped_name)\n",
    "print(names.index(\"Harvey\"))\n",
    "print(names.count(\"Sanchit\"))"
   ]
  },
  {
   "cell_type": "code",
   "execution_count": 66,
   "metadata": {},
   "outputs": [
    {
     "name": "stdout",
     "output_type": "stream",
     "text": [
      "['Dustin', 'Mike', 'Harvey', 'Aladin', 'Anaconda', 'Aloo']\n"
     ]
    }
   ],
   "source": [
    "print(names)\n",
    "names.sort()\n",
    "names.reverse()"
   ]
  },
  {
   "cell_type": "code",
   "execution_count": 67,
   "metadata": {},
   "outputs": [
    {
     "name": "stdout",
     "output_type": "stream",
     "text": [
      "[]\n"
     ]
    }
   ],
   "source": [
    "names.clear()\n",
    "print(names)"
   ]
  },
  {
   "cell_type": "code",
   "execution_count": null,
   "metadata": {},
   "outputs": [],
   "source": []
  }
 ],
 "metadata": {
  "kernelspec": {
   "display_name": "base",
   "language": "python",
   "name": "python3"
  },
  "language_info": {
   "codemirror_mode": {
    "name": "ipython",
    "version": 3
   },
   "file_extension": ".py",
   "mimetype": "text/x-python",
   "name": "python",
   "nbconvert_exporter": "python",
   "pygments_lexer": "ipython3",
   "version": "3.12.7"
  }
 },
 "nbformat": 4,
 "nbformat_minor": 2
}
