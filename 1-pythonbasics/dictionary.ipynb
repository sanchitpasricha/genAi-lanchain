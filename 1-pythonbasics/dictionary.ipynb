{
 "cells": [
  {
   "cell_type": "markdown",
   "metadata": {},
   "source": [
    "Dictionaries"
   ]
  },
  {
   "cell_type": "code",
   "execution_count": 8,
   "metadata": {},
   "outputs": [
    {
     "name": "stdout",
     "output_type": "stream",
     "text": [
      "<class 'dict'> <class 'dict'>\n"
     ]
    }
   ],
   "source": [
    "dic = {}\n",
    "dic2 = dict({\"Name\": \"Sanchit\", \"Age\": 23, \"Percentile\": 99.82})\n",
    "print(type(dic), type(dic2))"
   ]
  },
  {
   "cell_type": "code",
   "execution_count": 13,
   "metadata": {},
   "outputs": [
    {
     "name": "stdout",
     "output_type": "stream",
     "text": [
      "{'Name': 'Sanchit', 'Age': 23, 'Percentile': 99.82}\n",
      "Sanchit\n",
      "dict_keys(['Name', 'Age', 'Percentile'])\n",
      "dict_values(['Sanchit', 23, 99.82])\n",
      "Not Found\n"
     ]
    }
   ],
   "source": [
    "print(dic2)\n",
    "print(dic2[\"Name\"])\n",
    "print(dic2.keys())\n",
    "print(dic2.values())\n",
    "print(dic2.get(\"Lastname\", \"Not Found\"))"
   ]
  },
  {
   "cell_type": "markdown",
   "metadata": {},
   "source": [
    "### Dictionaries methods"
   ]
  },
  {
   "cell_type": "code",
   "execution_count": 17,
   "metadata": {},
   "outputs": [
    {
     "name": "stdout",
     "output_type": "stream",
     "text": [
      "Name : Sanchit\n",
      "Age : 23\n",
      "Percentile : 99.82\n"
     ]
    }
   ],
   "source": [
    "for key, value in dic2.items():\n",
    "    print(f\"{key} : {value}\")"
   ]
  }
 ],
 "metadata": {
  "kernelspec": {
   "display_name": "Python 3",
   "language": "python",
   "name": "python3"
  },
  "language_info": {
   "codemirror_mode": {
    "name": "ipython",
    "version": 3
   },
   "file_extension": ".py",
   "mimetype": "text/x-python",
   "name": "python",
   "nbconvert_exporter": "python",
   "pygments_lexer": "ipython3",
   "version": "3.10.17"
  }
 },
 "nbformat": 4,
 "nbformat_minor": 2
}
